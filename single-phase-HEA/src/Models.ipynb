{
 "cells": [
  {
   "cell_type": "code",
   "execution_count": 1,
   "id": "wireless-dragon",
   "metadata": {},
   "outputs": [],
   "source": [
    "import pandas as pd\n",
    "import numpy as np\n",
    "from sklearn.model_selection import train_test_split, GridSearchCV\n",
    "from sklearn.model_selection import KFold\n",
    "from sklearn.preprocessing import OneHotEncoder, MinMaxScaler\n",
    "from sklearn.pipeline import make_pipeline, Pipeline\n",
    "from sklearn.compose import ColumnTransformer\n",
    "from sklearn.metrics import make_scorer, recall_score, accuracy_score, precision_score"
   ]
  },
  {
   "cell_type": "code",
   "execution_count": 2,
   "id": "improved-payroll",
   "metadata": {},
   "outputs": [
    {
     "data": {
      "text/html": [
       "<div>\n",
       "<style scoped>\n",
       "    .dataframe tbody tr th:only-of-type {\n",
       "        vertical-align: middle;\n",
       "    }\n",
       "\n",
       "    .dataframe tbody tr th {\n",
       "        vertical-align: top;\n",
       "    }\n",
       "\n",
       "    .dataframe thead th {\n",
       "        text-align: right;\n",
       "    }\n",
       "</style>\n",
       "<table border=\"1\" class=\"dataframe\">\n",
       "  <thead>\n",
       "    <tr style=\"text-align: right;\">\n",
       "      <th></th>\n",
       "      <th>Alloys</th>\n",
       "      <th>alloy_sep</th>\n",
       "      <th>no_elements</th>\n",
       "      <th>k</th>\n",
       "      <th>vm</th>\n",
       "      <th>tm</th>\n",
       "      <th>vac</th>\n",
       "      <th>delta</th>\n",
       "      <th>delta_chi</th>\n",
       "      <th>delta_s_mix</th>\n",
       "      <th>delta_h_mix</th>\n",
       "      <th>Class</th>\n",
       "    </tr>\n",
       "  </thead>\n",
       "  <tbody>\n",
       "    <tr>\n",
       "      <th>624</th>\n",
       "      <td>Rh0.45Ta0.55</td>\n",
       "      <td>[('Rh', '0.45'), ('Ta', '0.55')]</td>\n",
       "      <td>2</td>\n",
       "      <td>0.742118</td>\n",
       "      <td>0.061368</td>\n",
       "      <td>0.746793</td>\n",
       "      <td>0.504673</td>\n",
       "      <td>0.106226</td>\n",
       "      <td>0.494325</td>\n",
       "      <td>0.267674</td>\n",
       "      <td>0.231707</td>\n",
       "      <td>0</td>\n",
       "    </tr>\n",
       "    <tr>\n",
       "      <th>806</th>\n",
       "      <td>Cr1Te1</td>\n",
       "      <td>[('Cr', '1'), ('Te', '1')]</td>\n",
       "      <td>2</td>\n",
       "      <td>0.293497</td>\n",
       "      <td>0.129766</td>\n",
       "      <td>0.341410</td>\n",
       "      <td>0.373832</td>\n",
       "      <td>0.000000</td>\n",
       "      <td>0.280255</td>\n",
       "      <td>0.269946</td>\n",
       "      <td>0.443243</td>\n",
       "      <td>0</td>\n",
       "    </tr>\n",
       "    <tr>\n",
       "      <th>16</th>\n",
       "      <td>Mg54Cu26.5Ag8.5Gd11</td>\n",
       "      <td>[('Mg', '54'), ('Cu', '26.5'), ('Ag', '8.5'), ...</td>\n",
       "      <td>4</td>\n",
       "      <td>0.194262</td>\n",
       "      <td>0.107286</td>\n",
       "      <td>0.248223</td>\n",
       "      <td>0.188037</td>\n",
       "      <td>0.258229</td>\n",
       "      <td>0.376739</td>\n",
       "      <td>0.471282</td>\n",
       "      <td>0.404302</td>\n",
       "      <td>0</td>\n",
       "    </tr>\n",
       "    <tr>\n",
       "      <th>33</th>\n",
       "      <td>Co1Cr2Fe1Ni1</td>\n",
       "      <td>[('Co', '1'), ('Cr', '2'), ('Fe', '1'), ('Ni',...</td>\n",
       "      <td>4</td>\n",
       "      <td>0.446247</td>\n",
       "      <td>0.015747</td>\n",
       "      <td>0.484658</td>\n",
       "      <td>0.254206</td>\n",
       "      <td>0.053250</td>\n",
       "      <td>0.137060</td>\n",
       "      <td>0.559816</td>\n",
       "      <td>0.421723</td>\n",
       "      <td>0</td>\n",
       "    </tr>\n",
       "    <tr>\n",
       "      <th>1506</th>\n",
       "      <td>Mo0.9Re0.1</td>\n",
       "      <td>[('Mo', '0.9'), ('Re', '0.1')]</td>\n",
       "      <td>2</td>\n",
       "      <td>0.643055</td>\n",
       "      <td>0.055000</td>\n",
       "      <td>0.787080</td>\n",
       "      <td>0.242991</td>\n",
       "      <td>0.062500</td>\n",
       "      <td>0.099363</td>\n",
       "      <td>0.102989</td>\n",
       "      <td>0.432025</td>\n",
       "      <td>1</td>\n",
       "    </tr>\n",
       "  </tbody>\n",
       "</table>\n",
       "</div>"
      ],
      "text/plain": [
       "                   Alloys                                          alloy_sep   \n",
       "624          Rh0.45Ta0.55                   [('Rh', '0.45'), ('Ta', '0.55')]  \\\n",
       "806                Cr1Te1                         [('Cr', '1'), ('Te', '1')]   \n",
       "16    Mg54Cu26.5Ag8.5Gd11  [('Mg', '54'), ('Cu', '26.5'), ('Ag', '8.5'), ...   \n",
       "33           Co1Cr2Fe1Ni1  [('Co', '1'), ('Cr', '2'), ('Fe', '1'), ('Ni',...   \n",
       "1506           Mo0.9Re0.1                     [('Mo', '0.9'), ('Re', '0.1')]   \n",
       "\n",
       "      no_elements         k        vm        tm       vac     delta   \n",
       "624             2  0.742118  0.061368  0.746793  0.504673  0.106226  \\\n",
       "806             2  0.293497  0.129766  0.341410  0.373832  0.000000   \n",
       "16              4  0.194262  0.107286  0.248223  0.188037  0.258229   \n",
       "33              4  0.446247  0.015747  0.484658  0.254206  0.053250   \n",
       "1506            2  0.643055  0.055000  0.787080  0.242991  0.062500   \n",
       "\n",
       "      delta_chi  delta_s_mix  delta_h_mix  Class  \n",
       "624    0.494325     0.267674     0.231707      0  \n",
       "806    0.280255     0.269946     0.443243      0  \n",
       "16     0.376739     0.471282     0.404302      0  \n",
       "33     0.137060     0.559816     0.421723      0  \n",
       "1506   0.099363     0.102989     0.432025      1  "
      ]
     },
     "execution_count": 2,
     "metadata": {},
     "output_type": "execute_result"
    }
   ],
   "source": [
    "file_path = '../dataset/2021Yan-SP-HEA'\n",
    "data_file = 'preprocessed.csv'\n",
    "df = pd.read_csv(f'{file_path}/{data_file}')\n",
    "num_ftrs = ['k','vm','tm','vac','delta','delta_chi', 'delta_s_mix', 'delta_h_mix']\n",
    "# num_ftrs = ['vm','tm','vac','delta','delta_chi', 'delta_s_mix', 'delta_h_mix']\n",
    "target_ftrs = ['Class']\n",
    "X = df[num_ftrs]\n",
    "y = df[target_ftrs]\n",
    "df.sample(5)"
   ]
  },
  {
   "cell_type": "code",
   "execution_count": 3,
   "id": "vertical-steam",
   "metadata": {},
   "outputs": [],
   "source": [
    "def ML_pipeline_GridSearchCV_kfold(X, y, seed, n_folds, \n",
    "                                 clf, param_grid):\n",
    "    ## reg: the regressor\n",
    "    ## param_grid: hyperparameters to be tuned\n",
    "    X_other, X_test, y_other, y_test = train_test_split(X, y, \n",
    "                   test_size=0.20, random_state=seed)\n",
    "    kf = KFold(n_splits=n_folds) # no need to shuffle again\n",
    "    pipe = Pipeline(steps=[('clf', clf)])\n",
    "    grid = GridSearchCV(pipe, param_grid=param_grid,n_jobs=-1,\n",
    "#                         cv=kf, scoring=make_scorer(precision_score))\n",
    "                        cv=kf, scoring=make_scorer(accuracy_score))\n",
    "    grid.fit(X_other, y_other)\n",
    "    return grid, grid.score(X_test, y_test)"
   ]
  },
  {
   "cell_type": "markdown",
   "id": "ongoing-banana",
   "metadata": {},
   "source": [
    "## Logistic regression with L$_1$ penalty "
   ]
  },
  {
   "cell_type": "code",
   "execution_count": 4,
   "id": "specific-sellers",
   "metadata": {},
   "outputs": [],
   "source": [
    "from sklearn.linear_model import LogisticRegression"
   ]
  },
  {
   "cell_type": "code",
   "execution_count": 5,
   "id": "false-flower",
   "metadata": {},
   "outputs": [],
   "source": [
    "param_grid = {'clf__C': np.logspace(-4, 2, 11)}\n",
    "best_scores = []\n",
    "best_params = []\n",
    "for i in range(10):\n",
    "    lr = LogisticRegression(penalty='l1', max_iter=10000, solver='saga', tol=0.01)\n",
    "    grid, test_score = ML_pipeline_GridSearchCV_kfold(X, y.values.ravel(), \n",
    "          seed=827*i, n_folds=5, clf=lr, param_grid=param_grid)\n",
    "    best_scores.append(test_score)\n",
    "    best_params.append(grid.best_params_)"
   ]
  },
  {
   "cell_type": "code",
   "execution_count": 6,
   "id": "facial-linux",
   "metadata": {},
   "outputs": [
    {
     "name": "stdout",
     "output_type": "stream",
     "text": [
      "Mean of the best score is 0.786.\n",
      "std of the best score is 0.014.\n"
     ]
    }
   ],
   "source": [
    "print(\"Mean of the best score is %.3f.\" % np.mean(best_scores))\n",
    "print(\"std of the best score is %.3f.\" % np.std(best_scores))"
   ]
  },
  {
   "cell_type": "code",
   "execution_count": 7,
   "id": "surrounded-basin",
   "metadata": {},
   "outputs": [
    {
     "data": {
      "text/plain": [
       "[{'clf__C': 6.30957344480193},\n",
       " {'clf__C': 25.11886431509577},\n",
       " {'clf__C': 6.30957344480193},\n",
       " {'clf__C': 25.11886431509577},\n",
       " {'clf__C': 25.11886431509577},\n",
       " {'clf__C': 6.30957344480193},\n",
       " {'clf__C': 25.11886431509577},\n",
       " {'clf__C': 25.11886431509577},\n",
       " {'clf__C': 25.11886431509577},\n",
       " {'clf__C': 6.30957344480193}]"
      ]
     },
     "execution_count": 7,
     "metadata": {},
     "output_type": "execute_result"
    }
   ],
   "source": [
    "best_params"
   ]
  },
  {
   "cell_type": "markdown",
   "id": "premier-melbourne",
   "metadata": {},
   "source": [
    "## RandomForest classifier"
   ]
  },
  {
   "cell_type": "code",
   "execution_count": 8,
   "id": "listed-chorus",
   "metadata": {},
   "outputs": [],
   "source": [
    "from sklearn.ensemble import RandomForestClassifier"
   ]
  },
  {
   "cell_type": "code",
   "execution_count": 9,
   "id": "fancy-ministry",
   "metadata": {},
   "outputs": [
    {
     "data": {
      "text/plain": [
       "[2, 6, 11, 15, 20]"
      ]
     },
     "execution_count": 9,
     "metadata": {},
     "output_type": "execute_result"
    }
   ],
   "source": [
    "max_depths = [int(x) for x in np.linspace(2, 20, num=5)]\n",
    "min_samples_splits = range(2, 12, 2)\n",
    "param_grid = { \"clf__max_depth\" : max_depths, \n",
    "               \"clf__min_samples_split\" : min_samples_splits }\n",
    "max_depths"
   ]
  },
  {
   "cell_type": "code",
   "execution_count": 10,
   "id": "french-kruger",
   "metadata": {},
   "outputs": [],
   "source": [
    "best_scores = []\n",
    "best_params = []\n",
    "for i in range(10):\n",
    "    clf = RandomForestClassifier(random_state=42*i, n_estimators=100)\n",
    "    grid, test_score = ML_pipeline_GridSearchCV_kfold(X, y.values.ravel(), \n",
    "          seed=827*i, n_folds=5, clf=clf, param_grid=param_grid)\n",
    "    best_scores.append(test_score)\n",
    "    best_params.append(grid.best_params_)"
   ]
  },
  {
   "cell_type": "code",
   "execution_count": 11,
   "id": "occupational-helen",
   "metadata": {},
   "outputs": [
    {
     "name": "stdout",
     "output_type": "stream",
     "text": [
      "Mean of the best score is 0.887.\n",
      "std of the best score is 0.011.\n"
     ]
    },
    {
     "data": {
      "text/plain": [
       "[{'clf__max_depth': 20, 'clf__min_samples_split': 6},\n",
       " {'clf__max_depth': 11, 'clf__min_samples_split': 6},\n",
       " {'clf__max_depth': 11, 'clf__min_samples_split': 2},\n",
       " {'clf__max_depth': 11, 'clf__min_samples_split': 8},\n",
       " {'clf__max_depth': 11, 'clf__min_samples_split': 4},\n",
       " {'clf__max_depth': 11, 'clf__min_samples_split': 8},\n",
       " {'clf__max_depth': 15, 'clf__min_samples_split': 2},\n",
       " {'clf__max_depth': 20, 'clf__min_samples_split': 2},\n",
       " {'clf__max_depth': 15, 'clf__min_samples_split': 2},\n",
       " {'clf__max_depth': 11, 'clf__min_samples_split': 2}]"
      ]
     },
     "execution_count": 11,
     "metadata": {},
     "output_type": "execute_result"
    }
   ],
   "source": [
    "print(\"Mean of the best score is %.3f.\" % np.mean(best_scores))\n",
    "print(\"std of the best score is %.3f.\" % np.std(best_scores))\n",
    "best_params"
   ]
  },
  {
   "cell_type": "markdown",
   "id": "private-bleeding",
   "metadata": {},
   "source": [
    "## Neural network classifier"
   ]
  },
  {
   "cell_type": "code",
   "execution_count": 12,
   "id": "motivated-rally",
   "metadata": {},
   "outputs": [],
   "source": [
    "from sklearn.neural_network import MLPClassifier"
   ]
  },
  {
   "cell_type": "code",
   "execution_count": 13,
   "id": "israeli-partnership",
   "metadata": {},
   "outputs": [],
   "source": [
    "nnc = MLPClassifier(max_iter=1000, solver='sgd', \n",
    "                   activation='tanh', batch_size=100,\n",
    "                   learning_rate='adaptive',\n",
    "                   random_state=827, alpha=0.0001, hidden_layer_sizes=[10])\n",
    "# alphas = [0.0001, 0.001]\n",
    "hls =  [[5, 5], [3, 3]]\n",
    "param_grid = {\"clf__hidden_layer_sizes\" : hls}"
   ]
  },
  {
   "cell_type": "code",
   "execution_count": 14,
   "id": "auburn-accent",
   "metadata": {},
   "outputs": [],
   "source": [
    "best_scores = []\n",
    "best_params = []\n",
    "for i in range(10):\n",
    "    grid, test_score = ML_pipeline_GridSearchCV_kfold(X, y.values.ravel(), \n",
    "          seed=827*i, n_folds=5, clf=nnc, param_grid=param_grid)\n",
    "    best_scores.append(test_score)\n",
    "    best_params.append(grid.best_params_)"
   ]
  },
  {
   "cell_type": "code",
   "execution_count": 15,
   "id": "strong-lucas",
   "metadata": {},
   "outputs": [
    {
     "name": "stdout",
     "output_type": "stream",
     "text": [
      "Mean of the best score is 0.785.\n",
      "std of the best score is 0.015.\n"
     ]
    },
    {
     "data": {
      "text/plain": [
       "[{'clf__hidden_layer_sizes': [5, 5]},\n",
       " {'clf__hidden_layer_sizes': [3, 3]},\n",
       " {'clf__hidden_layer_sizes': [5, 5]},\n",
       " {'clf__hidden_layer_sizes': [5, 5]},\n",
       " {'clf__hidden_layer_sizes': [5, 5]},\n",
       " {'clf__hidden_layer_sizes': [5, 5]},\n",
       " {'clf__hidden_layer_sizes': [5, 5]},\n",
       " {'clf__hidden_layer_sizes': [5, 5]},\n",
       " {'clf__hidden_layer_sizes': [3, 3]},\n",
       " {'clf__hidden_layer_sizes': [5, 5]}]"
      ]
     },
     "execution_count": 15,
     "metadata": {},
     "output_type": "execute_result"
    }
   ],
   "source": [
    "print(\"Mean of the best score is %.3f.\" % np.mean(best_scores))\n",
    "print(\"std of the best score is %.3f.\" % np.std(best_scores))\n",
    "best_params"
   ]
  },
  {
   "cell_type": "markdown",
   "id": "stopped-browser",
   "metadata": {},
   "source": [
    "## Gradient boosting classifier"
   ]
  },
  {
   "cell_type": "code",
   "execution_count": 16,
   "id": "velvet-replica",
   "metadata": {},
   "outputs": [],
   "source": [
    "from sklearn.ensemble import GradientBoostingClassifier"
   ]
  },
  {
   "cell_type": "code",
   "execution_count": 17,
   "id": "liable-leone",
   "metadata": {},
   "outputs": [],
   "source": [
    "max_depths = [int(x) for x in np.linspace(10, 30, num=3)]\n",
    "min_samples_splits = range(2, 6, 2)\n",
    "param_grid = { \"clf__max_depth\" : max_depths,\n",
    "               \"clf__min_samples_split\" : min_samples_splits}\n"
   ]
  },
  {
   "cell_type": "code",
   "execution_count": 18,
   "id": "capable-bahamas",
   "metadata": {},
   "outputs": [],
   "source": [
    "best_scores = []\n",
    "best_params = []\n",
    "for i in range(10):\n",
    "    clf = GradientBoostingClassifier(random_state=42*i, n_estimators=100)\n",
    "    grid, test_score = ML_pipeline_GridSearchCV_kfold(X, y.values.ravel(), \n",
    "          seed=827*i, n_folds=5, clf=clf, param_grid=param_grid)\n",
    "    best_scores.append(test_score)\n",
    "    best_params.append(grid.best_params_)"
   ]
  },
  {
   "cell_type": "code",
   "execution_count": 19,
   "id": "manual-textbook",
   "metadata": {},
   "outputs": [
    {
     "name": "stdout",
     "output_type": "stream",
     "text": [
      "Mean of the best score is 0.887.\n",
      "std of the best score is 0.014.\n"
     ]
    },
    {
     "data": {
      "text/plain": [
       "[{'clf__max_depth': 10, 'clf__min_samples_split': 2},\n",
       " {'clf__max_depth': 10, 'clf__min_samples_split': 4},\n",
       " {'clf__max_depth': 10, 'clf__min_samples_split': 2},\n",
       " {'clf__max_depth': 10, 'clf__min_samples_split': 4},\n",
       " {'clf__max_depth': 10, 'clf__min_samples_split': 4},\n",
       " {'clf__max_depth': 10, 'clf__min_samples_split': 4},\n",
       " {'clf__max_depth': 10, 'clf__min_samples_split': 4},\n",
       " {'clf__max_depth': 10, 'clf__min_samples_split': 4},\n",
       " {'clf__max_depth': 10, 'clf__min_samples_split': 2},\n",
       " {'clf__max_depth': 10, 'clf__min_samples_split': 2}]"
      ]
     },
     "execution_count": 19,
     "metadata": {},
     "output_type": "execute_result"
    }
   ],
   "source": [
    "print(\"Mean of the best score is %.3f.\" % np.mean(best_scores))\n",
    "print(\"std of the best score is %.3f.\" % np.std(best_scores))\n",
    "best_params"
   ]
  }
 ],
 "metadata": {
  "kernelspec": {
   "display_name": "Python 3",
   "language": "python",
   "name": "python3"
  },
  "language_info": {
   "codemirror_mode": {
    "name": "ipython",
    "version": 3
   },
   "file_extension": ".py",
   "mimetype": "text/x-python",
   "name": "python",
   "nbconvert_exporter": "python",
   "pygments_lexer": "ipython3",
   "version": "3.8.10"
  }
 },
 "nbformat": 4,
 "nbformat_minor": 5
}
