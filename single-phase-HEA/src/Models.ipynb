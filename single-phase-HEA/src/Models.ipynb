{
 "cells": [
  {
   "cell_type": "code",
   "execution_count": 1,
   "id": "wireless-dragon",
   "metadata": {},
   "outputs": [],
   "source": [
    "import pandas as pd\n",
    "import numpy as np\n",
    "from sklearn.model_selection import train_test_split, GridSearchCV\n",
    "from sklearn.model_selection import KFold\n",
    "from sklearn.preprocessing import OneHotEncoder, MinMaxScaler\n",
    "from sklearn.pipeline import make_pipeline, Pipeline\n",
    "from sklearn.compose import ColumnTransformer\n",
    "from sklearn.metrics import make_scorer, recall_score, accuracy_score, precision_score"
   ]
  },
  {
   "cell_type": "code",
   "execution_count": 2,
   "id": "improved-payroll",
   "metadata": {},
   "outputs": [
    {
     "data": {
      "text/html": [
       "<div>\n",
       "<style scoped>\n",
       "    .dataframe tbody tr th:only-of-type {\n",
       "        vertical-align: middle;\n",
       "    }\n",
       "\n",
       "    .dataframe tbody tr th {\n",
       "        vertical-align: top;\n",
       "    }\n",
       "\n",
       "    .dataframe thead th {\n",
       "        text-align: right;\n",
       "    }\n",
       "</style>\n",
       "<table border=\"1\" class=\"dataframe\">\n",
       "  <thead>\n",
       "    <tr style=\"text-align: right;\">\n",
       "      <th></th>\n",
       "      <th>Alloys</th>\n",
       "      <th>alloy_sep</th>\n",
       "      <th>no_elements</th>\n",
       "      <th>k</th>\n",
       "      <th>vm</th>\n",
       "      <th>tm</th>\n",
       "      <th>vac</th>\n",
       "      <th>delta</th>\n",
       "      <th>delta_chi</th>\n",
       "      <th>delta_s_mix</th>\n",
       "      <th>delta_h_mix</th>\n",
       "      <th>Class</th>\n",
       "    </tr>\n",
       "  </thead>\n",
       "  <tbody>\n",
       "    <tr>\n",
       "      <th>1638</th>\n",
       "      <td>Ta0.75W0.25</td>\n",
       "      <td>[('Ta', '0.75'), ('W', '0.25')]</td>\n",
       "      <td>2</td>\n",
       "      <td>0.600185</td>\n",
       "      <td>0.075056</td>\n",
       "      <td>0.917197</td>\n",
       "      <td>0.682243</td>\n",
       "      <td>0.091161</td>\n",
       "      <td>0.110322</td>\n",
       "      <td>0.210609</td>\n",
       "      <td>0.417965</td>\n",
       "      <td>1</td>\n",
       "    </tr>\n",
       "    <tr>\n",
       "      <th>1135</th>\n",
       "      <td>Fe0.75Mn0.25</td>\n",
       "      <td>[('Fe', '0.75'), ('Mn', '0.25')]</td>\n",
       "      <td>2</td>\n",
       "      <td>0.411555</td>\n",
       "      <td>0.019064</td>\n",
       "      <td>0.426603</td>\n",
       "      <td>0.252336</td>\n",
       "      <td>0.000000</td>\n",
       "      <td>0.154450</td>\n",
       "      <td>0.210609</td>\n",
       "      <td>0.443243</td>\n",
       "      <td>1</td>\n",
       "    </tr>\n",
       "    <tr>\n",
       "      <th>299</th>\n",
       "      <td>Co1.5Cr1Fe1Ni1.5Ti0.5Mo1.5</td>\n",
       "      <td>[('Co', '1.5'), ('Cr', '1'), ('Fe', '1'), ('Ni...</td>\n",
       "      <td>6</td>\n",
       "      <td>0.476285</td>\n",
       "      <td>0.027269</td>\n",
       "      <td>0.527746</td>\n",
       "      <td>0.248331</td>\n",
       "      <td>0.083419</td>\n",
       "      <td>0.229684</td>\n",
       "      <td>0.742432</td>\n",
       "      <td>0.398877</td>\n",
       "      <td>0</td>\n",
       "    </tr>\n",
       "    <tr>\n",
       "      <th>1239</th>\n",
       "      <td>Al0.8CrFe1.5MnNi0.5</td>\n",
       "      <td>[('Al', '0.8'), ('Cr', 1), ('Fe', '1.5'), ('Mn...</td>\n",
       "      <td>5</td>\n",
       "      <td>0.374071</td>\n",
       "      <td>0.026445</td>\n",
       "      <td>0.407029</td>\n",
       "      <td>0.214953</td>\n",
       "      <td>0.121899</td>\n",
       "      <td>0.162055</td>\n",
       "      <td>0.659212</td>\n",
       "      <td>0.371389</td>\n",
       "      <td>1</td>\n",
       "    </tr>\n",
       "    <tr>\n",
       "      <th>1357</th>\n",
       "      <td>Pt0.15Ru0.85</td>\n",
       "      <td>[('Pt', '0.15'), ('Ru', '0.85')]</td>\n",
       "      <td>2</td>\n",
       "      <td>0.585939</td>\n",
       "      <td>0.039699</td>\n",
       "      <td>0.659319</td>\n",
       "      <td>0.351402</td>\n",
       "      <td>0.040964</td>\n",
       "      <td>0.000000</td>\n",
       "      <td>0.147273</td>\n",
       "      <td>0.440649</td>\n",
       "      <td>1</td>\n",
       "    </tr>\n",
       "  </tbody>\n",
       "</table>\n",
       "</div>"
      ],
      "text/plain": [
       "                          Alloys   \n",
       "1638                 Ta0.75W0.25  \\\n",
       "1135                Fe0.75Mn0.25   \n",
       "299   Co1.5Cr1Fe1Ni1.5Ti0.5Mo1.5   \n",
       "1239         Al0.8CrFe1.5MnNi0.5   \n",
       "1357                Pt0.15Ru0.85   \n",
       "\n",
       "                                              alloy_sep  no_elements   \n",
       "1638                    [('Ta', '0.75'), ('W', '0.25')]            2  \\\n",
       "1135                   [('Fe', '0.75'), ('Mn', '0.25')]            2   \n",
       "299   [('Co', '1.5'), ('Cr', '1'), ('Fe', '1'), ('Ni...            6   \n",
       "1239  [('Al', '0.8'), ('Cr', 1), ('Fe', '1.5'), ('Mn...            5   \n",
       "1357                   [('Pt', '0.15'), ('Ru', '0.85')]            2   \n",
       "\n",
       "             k        vm        tm       vac     delta  delta_chi   \n",
       "1638  0.600185  0.075056  0.917197  0.682243  0.091161   0.110322  \\\n",
       "1135  0.411555  0.019064  0.426603  0.252336  0.000000   0.154450   \n",
       "299   0.476285  0.027269  0.527746  0.248331  0.083419   0.229684   \n",
       "1239  0.374071  0.026445  0.407029  0.214953  0.121899   0.162055   \n",
       "1357  0.585939  0.039699  0.659319  0.351402  0.040964   0.000000   \n",
       "\n",
       "      delta_s_mix  delta_h_mix  Class  \n",
       "1638     0.210609     0.417965      1  \n",
       "1135     0.210609     0.443243      1  \n",
       "299      0.742432     0.398877      0  \n",
       "1239     0.659212     0.371389      1  \n",
       "1357     0.147273     0.440649      1  "
      ]
     },
     "execution_count": 2,
     "metadata": {},
     "output_type": "execute_result"
    }
   ],
   "source": [
    "file_path = '../dataset/2021Yan-SP-HEA'\n",
    "data_file = 'preprocessed.csv'\n",
    "df = pd.read_csv(f'{file_path}/{data_file}')\n",
    "num_ftrs = ['k','vm','tm','vac','delta','delta_chi', 'delta_s_mix', 'delta_h_mix']\n",
    "# num_ftrs = ['vm','tm','vac','delta','delta_chi', 'delta_s_mix', 'delta_h_mix']\n",
    "target_ftrs = ['Class']\n",
    "X = df[num_ftrs]\n",
    "y = df[target_ftrs]\n",
    "df.sample(5)"
   ]
  },
  {
   "cell_type": "code",
   "execution_count": 3,
   "id": "vertical-steam",
   "metadata": {},
   "outputs": [],
   "source": [
    "def ML_pipeline_GridSearchCV_kfold(X, y, seed, n_folds, \n",
    "                                 clf, param_grid):\n",
    "    ## reg: the regressor\n",
    "    ## param_grid: hyperparameters to be tuned\n",
    "    X_other, X_test, y_other, y_test = train_test_split(X, y, \n",
    "                   test_size=0.20, random_state=seed)\n",
    "    kf = KFold(n_splits=n_folds) # no need to shuffle again\n",
    "    pipe = Pipeline(steps=[('clf', clf)])\n",
    "    grid = GridSearchCV(pipe, param_grid=param_grid,n_jobs=-1,\n",
    "#                         cv=kf, scoring=make_scorer(precision_score))\n",
    "                        cv=kf, scoring=make_scorer(accuracy_score))\n",
    "    grid.fit(X_other, y_other)\n",
    "    return grid, grid.score(X_test, y_test)"
   ]
  },
  {
   "cell_type": "markdown",
   "id": "ongoing-banana",
   "metadata": {},
   "source": [
    "## Logistic regression with L$_1$ penalty "
   ]
  },
  {
   "cell_type": "code",
   "execution_count": 4,
   "id": "specific-sellers",
   "metadata": {},
   "outputs": [],
   "source": [
    "from sklearn.linear_model import LogisticRegression"
   ]
  },
  {
   "cell_type": "code",
   "execution_count": 5,
   "id": "false-flower",
   "metadata": {},
   "outputs": [],
   "source": [
    "param_grid = {'clf__C': np.logspace(-4, 2, 11)}\n",
    "best_scores = []\n",
    "best_params = []\n",
    "for i in range(10):\n",
    "    lr = LogisticRegression(penalty='l1', max_iter=10000, solver='saga', tol=0.01)\n",
    "    grid, test_score = ML_pipeline_GridSearchCV_kfold(X, y.values.ravel(), \n",
    "          seed=827*i, n_folds=5, clf=lr, param_grid=param_grid)\n",
    "    best_scores.append(test_score)\n",
    "    best_params.append(grid.best_params_)"
   ]
  },
  {
   "cell_type": "code",
   "execution_count": 6,
   "id": "facial-linux",
   "metadata": {},
   "outputs": [
    {
     "name": "stdout",
     "output_type": "stream",
     "text": [
      "Mean of the best score is 0.786.\n",
      "std of the best score is 0.014.\n"
     ]
    }
   ],
   "source": [
    "print(\"Mean of the best score is %.3f.\" % np.mean(best_scores))\n",
    "print(\"std of the best score is %.3f.\" % np.std(best_scores))"
   ]
  },
  {
   "cell_type": "code",
   "execution_count": 6,
   "id": "quantitative-martin",
   "metadata": {},
   "outputs": [
    {
     "data": {
      "text/plain": [
       "[0.7707182320441989,\n",
       " 0.7762430939226519,\n",
       " 0.7900552486187845,\n",
       " 0.7817679558011049,\n",
       " 0.7928176795580111,\n",
       " 0.8176795580110497,\n",
       " 0.7817679558011049,\n",
       " 0.7679558011049724,\n",
       " 0.7955801104972375,\n",
       " 0.7817679558011049]"
      ]
     },
     "execution_count": 6,
     "metadata": {},
     "output_type": "execute_result"
    }
   ],
   "source": [
    "best_scores"
   ]
  },
  {
   "cell_type": "code",
   "execution_count": 7,
   "id": "surrounded-basin",
   "metadata": {},
   "outputs": [
    {
     "data": {
      "text/plain": [
       "[{'clf__C': 6.30957344480193},\n",
       " {'clf__C': 25.11886431509577},\n",
       " {'clf__C': 6.30957344480193},\n",
       " {'clf__C': 6.30957344480193},\n",
       " {'clf__C': 100.0},\n",
       " {'clf__C': 6.30957344480193},\n",
       " {'clf__C': 100.0},\n",
       " {'clf__C': 25.11886431509577},\n",
       " {'clf__C': 6.30957344480193},\n",
       " {'clf__C': 25.11886431509577}]"
      ]
     },
     "execution_count": 7,
     "metadata": {},
     "output_type": "execute_result"
    }
   ],
   "source": [
    "best_params"
   ]
  },
  {
   "cell_type": "markdown",
   "id": "premier-melbourne",
   "metadata": {},
   "source": [
    "## RandomForest classifier"
   ]
  },
  {
   "cell_type": "code",
   "execution_count": 8,
   "id": "listed-chorus",
   "metadata": {},
   "outputs": [],
   "source": [
    "from sklearn.ensemble import RandomForestClassifier"
   ]
  },
  {
   "cell_type": "code",
   "execution_count": 9,
   "id": "fancy-ministry",
   "metadata": {},
   "outputs": [
    {
     "data": {
      "text/plain": [
       "[2, 6, 11, 15, 20]"
      ]
     },
     "execution_count": 9,
     "metadata": {},
     "output_type": "execute_result"
    }
   ],
   "source": [
    "max_depths = [int(x) for x in np.linspace(2, 20, num=5)]\n",
    "min_samples_splits = range(2, 12, 2)\n",
    "param_grid = { \"clf__max_depth\" : max_depths, \n",
    "               \"clf__min_samples_split\" : min_samples_splits }\n",
    "max_depths"
   ]
  },
  {
   "cell_type": "code",
   "execution_count": 10,
   "id": "french-kruger",
   "metadata": {},
   "outputs": [],
   "source": [
    "best_scores = []\n",
    "best_params = []\n",
    "for i in range(10):\n",
    "    clf = RandomForestClassifier(random_state=42*i, n_estimators=100)\n",
    "    grid, test_score = ML_pipeline_GridSearchCV_kfold(X, y.values.ravel(), \n",
    "          seed=827*i, n_folds=5, clf=clf, param_grid=param_grid)\n",
    "    best_scores.append(test_score)\n",
    "    best_params.append(grid.best_params_)"
   ]
  },
  {
   "cell_type": "code",
   "execution_count": 11,
   "id": "occupational-helen",
   "metadata": {},
   "outputs": [
    {
     "name": "stdout",
     "output_type": "stream",
     "text": [
      "Mean of the best score is 0.887.\n",
      "std of the best score is 0.011.\n"
     ]
    },
    {
     "data": {
      "text/plain": [
       "[{'clf__max_depth': 20, 'clf__min_samples_split': 6},\n",
       " {'clf__max_depth': 11, 'clf__min_samples_split': 6},\n",
       " {'clf__max_depth': 11, 'clf__min_samples_split': 2},\n",
       " {'clf__max_depth': 11, 'clf__min_samples_split': 8},\n",
       " {'clf__max_depth': 11, 'clf__min_samples_split': 4},\n",
       " {'clf__max_depth': 11, 'clf__min_samples_split': 8},\n",
       " {'clf__max_depth': 15, 'clf__min_samples_split': 2},\n",
       " {'clf__max_depth': 20, 'clf__min_samples_split': 2},\n",
       " {'clf__max_depth': 15, 'clf__min_samples_split': 2},\n",
       " {'clf__max_depth': 11, 'clf__min_samples_split': 2}]"
      ]
     },
     "execution_count": 11,
     "metadata": {},
     "output_type": "execute_result"
    }
   ],
   "source": [
    "print(\"Mean of the best score is %.3f.\" % np.mean(best_scores))\n",
    "print(\"std of the best score is %.3f.\" % np.std(best_scores))\n",
    "best_params"
   ]
  },
  {
   "cell_type": "code",
   "execution_count": 12,
   "id": "latin-white",
   "metadata": {},
   "outputs": [
    {
     "data": {
      "text/plain": [
       "[0.8756906077348067,\n",
       " 0.8729281767955801,\n",
       " 0.8812154696132597,\n",
       " 0.8729281767955801,\n",
       " 0.8812154696132597,\n",
       " 0.9033149171270718,\n",
       " 0.9005524861878453,\n",
       " 0.9005524861878453,\n",
       " 0.8867403314917127,\n",
       " 0.8922651933701657]"
      ]
     },
     "execution_count": 12,
     "metadata": {},
     "output_type": "execute_result"
    }
   ],
   "source": [
    "best_scores"
   ]
  },
  {
   "cell_type": "markdown",
   "id": "private-bleeding",
   "metadata": {},
   "source": [
    "## Neural network classifier"
   ]
  },
  {
   "cell_type": "code",
   "execution_count": 13,
   "id": "motivated-rally",
   "metadata": {},
   "outputs": [],
   "source": [
    "from sklearn.neural_network import MLPClassifier"
   ]
  },
  {
   "cell_type": "code",
   "execution_count": 14,
   "id": "israeli-partnership",
   "metadata": {},
   "outputs": [],
   "source": [
    "nnc = MLPClassifier(max_iter=1000, solver='sgd', \n",
    "                   activation='tanh', batch_size=100,\n",
    "                   learning_rate='adaptive',\n",
    "                   random_state=827, alpha=0.0001, hidden_layer_sizes=[10])\n",
    "# alphas = [0.0001, 0.001]\n",
    "hls =  [[5, 5], [3, 3]]\n",
    "param_grid = {\"clf__hidden_layer_sizes\" : hls}"
   ]
  },
  {
   "cell_type": "code",
   "execution_count": 15,
   "id": "auburn-accent",
   "metadata": {},
   "outputs": [],
   "source": [
    "best_scores = []\n",
    "best_params = []\n",
    "for i in range(10):\n",
    "    grid, test_score = ML_pipeline_GridSearchCV_kfold(X, y.values.ravel(), \n",
    "          seed=827*i, n_folds=5, clf=nnc, param_grid=param_grid)\n",
    "    best_scores.append(test_score)\n",
    "    best_params.append(grid.best_params_)"
   ]
  },
  {
   "cell_type": "code",
   "execution_count": 16,
   "id": "strong-lucas",
   "metadata": {},
   "outputs": [
    {
     "name": "stdout",
     "output_type": "stream",
     "text": [
      "Mean of the best score is 0.785.\n",
      "std of the best score is 0.015.\n"
     ]
    },
    {
     "data": {
      "text/plain": [
       "[{'clf__hidden_layer_sizes': [5, 5]},\n",
       " {'clf__hidden_layer_sizes': [3, 3]},\n",
       " {'clf__hidden_layer_sizes': [5, 5]},\n",
       " {'clf__hidden_layer_sizes': [5, 5]},\n",
       " {'clf__hidden_layer_sizes': [5, 5]},\n",
       " {'clf__hidden_layer_sizes': [5, 5]},\n",
       " {'clf__hidden_layer_sizes': [5, 5]},\n",
       " {'clf__hidden_layer_sizes': [5, 5]},\n",
       " {'clf__hidden_layer_sizes': [3, 3]},\n",
       " {'clf__hidden_layer_sizes': [5, 5]}]"
      ]
     },
     "execution_count": 16,
     "metadata": {},
     "output_type": "execute_result"
    }
   ],
   "source": [
    "print(\"Mean of the best score is %.3f.\" % np.mean(best_scores))\n",
    "print(\"std of the best score is %.3f.\" % np.std(best_scores))\n",
    "best_params"
   ]
  },
  {
   "cell_type": "markdown",
   "id": "stopped-browser",
   "metadata": {},
   "source": [
    "## Gradient boosting classifier"
   ]
  },
  {
   "cell_type": "code",
   "execution_count": 17,
   "id": "velvet-replica",
   "metadata": {},
   "outputs": [],
   "source": [
    "from sklearn.ensemble import GradientBoostingClassifier"
   ]
  },
  {
   "cell_type": "code",
   "execution_count": 18,
   "id": "liable-leone",
   "metadata": {},
   "outputs": [],
   "source": [
    "max_depths = [int(x) for x in np.linspace(10, 30, num=3)]\n",
    "min_samples_splits = range(2, 6, 2)\n",
    "param_grid = { \"clf__max_depth\" : max_depths,\n",
    "               \"clf__min_samples_split\" : min_samples_splits}\n"
   ]
  },
  {
   "cell_type": "code",
   "execution_count": 19,
   "id": "capable-bahamas",
   "metadata": {},
   "outputs": [],
   "source": [
    "best_scores = []\n",
    "best_params = []\n",
    "for i in range(10):\n",
    "    clf = GradientBoostingClassifier(random_state=42*i, n_estimators=100)\n",
    "    grid, test_score = ML_pipeline_GridSearchCV_kfold(X, y.values.ravel(), \n",
    "          seed=827*i, n_folds=5, clf=clf, param_grid=param_grid)\n",
    "    best_scores.append(test_score)\n",
    "    best_params.append(grid.best_params_)"
   ]
  },
  {
   "cell_type": "code",
   "execution_count": 20,
   "id": "manual-textbook",
   "metadata": {},
   "outputs": [
    {
     "name": "stdout",
     "output_type": "stream",
     "text": [
      "Mean of the best score is 0.887.\n",
      "std of the best score is 0.014.\n"
     ]
    },
    {
     "data": {
      "text/plain": [
       "[{'clf__max_depth': 10, 'clf__min_samples_split': 2},\n",
       " {'clf__max_depth': 10, 'clf__min_samples_split': 4},\n",
       " {'clf__max_depth': 10, 'clf__min_samples_split': 2},\n",
       " {'clf__max_depth': 10, 'clf__min_samples_split': 4},\n",
       " {'clf__max_depth': 10, 'clf__min_samples_split': 4},\n",
       " {'clf__max_depth': 10, 'clf__min_samples_split': 4},\n",
       " {'clf__max_depth': 10, 'clf__min_samples_split': 4},\n",
       " {'clf__max_depth': 10, 'clf__min_samples_split': 4},\n",
       " {'clf__max_depth': 10, 'clf__min_samples_split': 2},\n",
       " {'clf__max_depth': 10, 'clf__min_samples_split': 2}]"
      ]
     },
     "execution_count": 20,
     "metadata": {},
     "output_type": "execute_result"
    }
   ],
   "source": [
    "print(\"Mean of the best score is %.3f.\" % np.mean(best_scores))\n",
    "print(\"std of the best score is %.3f.\" % np.std(best_scores))\n",
    "best_params"
   ]
  }
 ],
 "metadata": {
  "kernelspec": {
   "display_name": "Python 3",
   "language": "python",
   "name": "python3"
  },
  "language_info": {
   "codemirror_mode": {
    "name": "ipython",
    "version": 3
   },
   "file_extension": ".py",
   "mimetype": "text/x-python",
   "name": "python",
   "nbconvert_exporter": "python",
   "pygments_lexer": "ipython3",
   "version": "3.8.10"
  }
 },
 "nbformat": 4,
 "nbformat_minor": 5
}
