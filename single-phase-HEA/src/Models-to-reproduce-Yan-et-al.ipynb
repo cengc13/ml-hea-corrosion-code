{
 "cells": [
  {
   "cell_type": "code",
   "execution_count": 1,
   "id": "wireless-dragon",
   "metadata": {},
   "outputs": [],
   "source": [
    "import pandas as pd\n",
    "import numpy as np\n",
    "from sklearn.model_selection import train_test_split, GridSearchCV\n",
    "from sklearn.model_selection import KFold\n",
    "from sklearn.preprocessing import OneHotEncoder, MinMaxScaler\n",
    "from sklearn.pipeline import make_pipeline, Pipeline\n",
    "from sklearn.compose import ColumnTransformer\n",
    "from sklearn.metrics import make_scorer, recall_score, accuracy_score, precision_score"
   ]
  },
  {
   "cell_type": "code",
   "execution_count": 2,
   "id": "improved-payroll",
   "metadata": {},
   "outputs": [
    {
     "data": {
      "text/html": [
       "<div>\n",
       "<style scoped>\n",
       "    .dataframe tbody tr th:only-of-type {\n",
       "        vertical-align: middle;\n",
       "    }\n",
       "\n",
       "    .dataframe tbody tr th {\n",
       "        vertical-align: top;\n",
       "    }\n",
       "\n",
       "    .dataframe thead th {\n",
       "        text-align: right;\n",
       "    }\n",
       "</style>\n",
       "<table border=\"1\" class=\"dataframe\">\n",
       "  <thead>\n",
       "    <tr style=\"text-align: right;\">\n",
       "      <th></th>\n",
       "      <th>Alloys</th>\n",
       "      <th>alloy_sep</th>\n",
       "      <th>no_elements</th>\n",
       "      <th>k</th>\n",
       "      <th>vm</th>\n",
       "      <th>tm</th>\n",
       "      <th>vac</th>\n",
       "      <th>delta</th>\n",
       "      <th>delta_chi</th>\n",
       "      <th>delta_s_mix</th>\n",
       "      <th>delta_h_mix</th>\n",
       "      <th>Class</th>\n",
       "    </tr>\n",
       "  </thead>\n",
       "  <tbody>\n",
       "    <tr>\n",
       "      <th>1687</th>\n",
       "      <td>Mo0.3NbTiV0.3Zr</td>\n",
       "      <td>[('Mo', '0.3'), ('Nb', 1), ('Ti', 1), ('V', '0...</td>\n",
       "      <td>5</td>\n",
       "      <td>0.356740</td>\n",
       "      <td>0.088004</td>\n",
       "      <td>0.598808</td>\n",
       "      <td>0.131880</td>\n",
       "      <td>0.134755</td>\n",
       "      <td>0.272183</td>\n",
       "      <td>0.627593</td>\n",
       "      <td>0.442713</td>\n",
       "      <td>1</td>\n",
       "    </tr>\n",
       "    <tr>\n",
       "      <th>969</th>\n",
       "      <td>K1Mo1</td>\n",
       "      <td>[('K', '1'), ('Mo', '1')]</td>\n",
       "      <td>2</td>\n",
       "      <td>0.305369</td>\n",
       "      <td>0.352824</td>\n",
       "      <td>0.390282</td>\n",
       "      <td>0.093458</td>\n",
       "      <td>0.616438</td>\n",
       "      <td>0.853503</td>\n",
       "      <td>0.269946</td>\n",
       "      <td>0.962798</td>\n",
       "      <td>0</td>\n",
       "    </tr>\n",
       "    <tr>\n",
       "      <th>1218</th>\n",
       "      <td>Al0.7Co0.3CrFeNi</td>\n",
       "      <td>[('Al', '0.7'), ('Co', '0.3'), ('Cr', 1), ('Fe...</td>\n",
       "      <td>5</td>\n",
       "      <td>0.404894</td>\n",
       "      <td>0.024233</td>\n",
       "      <td>0.422943</td>\n",
       "      <td>0.231776</td>\n",
       "      <td>0.119904</td>\n",
       "      <td>0.151827</td>\n",
       "      <td>0.653636</td>\n",
       "      <td>0.361412</td>\n",
       "      <td>1</td>\n",
       "    </tr>\n",
       "    <tr>\n",
       "      <th>477</th>\n",
       "      <td>Al0.5Cr1Fe1Ni1Ti1V1</td>\n",
       "      <td>[('Al', '0.5'), ('Cr', '1'), ('Fe', '1'), ('Ni...</td>\n",
       "      <td>6</td>\n",
       "      <td>0.389790</td>\n",
       "      <td>0.035398</td>\n",
       "      <td>0.467261</td>\n",
       "      <td>0.197111</td>\n",
       "      <td>0.096631</td>\n",
       "      <td>0.169206</td>\n",
       "      <td>0.757400</td>\n",
       "      <td>0.337689</td>\n",
       "      <td>0</td>\n",
       "    </tr>\n",
       "    <tr>\n",
       "      <th>1672</th>\n",
       "      <td>Nb0.5Ta0.5</td>\n",
       "      <td>[('Nb', '0.5'), ('Ta', '0.5')]</td>\n",
       "      <td>2</td>\n",
       "      <td>0.490041</td>\n",
       "      <td>0.079894</td>\n",
       "      <td>0.807491</td>\n",
       "      <td>0.411215</td>\n",
       "      <td>0.000000</td>\n",
       "      <td>0.063694</td>\n",
       "      <td>0.269946</td>\n",
       "      <td>0.443243</td>\n",
       "      <td>1</td>\n",
       "    </tr>\n",
       "  </tbody>\n",
       "</table>\n",
       "</div>"
      ],
      "text/plain": [
       "                   Alloys                                          alloy_sep  \\\n",
       "1687      Mo0.3NbTiV0.3Zr  [('Mo', '0.3'), ('Nb', 1), ('Ti', 1), ('V', '0...   \n",
       "969                 K1Mo1                          [('K', '1'), ('Mo', '1')]   \n",
       "1218     Al0.7Co0.3CrFeNi  [('Al', '0.7'), ('Co', '0.3'), ('Cr', 1), ('Fe...   \n",
       "477   Al0.5Cr1Fe1Ni1Ti1V1  [('Al', '0.5'), ('Cr', '1'), ('Fe', '1'), ('Ni...   \n",
       "1672           Nb0.5Ta0.5                     [('Nb', '0.5'), ('Ta', '0.5')]   \n",
       "\n",
       "      no_elements         k        vm        tm       vac     delta  \\\n",
       "1687            5  0.356740  0.088004  0.598808  0.131880  0.134755   \n",
       "969             2  0.305369  0.352824  0.390282  0.093458  0.616438   \n",
       "1218            5  0.404894  0.024233  0.422943  0.231776  0.119904   \n",
       "477             6  0.389790  0.035398  0.467261  0.197111  0.096631   \n",
       "1672            2  0.490041  0.079894  0.807491  0.411215  0.000000   \n",
       "\n",
       "      delta_chi  delta_s_mix  delta_h_mix  Class  \n",
       "1687   0.272183     0.627593     0.442713      1  \n",
       "969    0.853503     0.269946     0.962798      0  \n",
       "1218   0.151827     0.653636     0.361412      1  \n",
       "477    0.169206     0.757400     0.337689      0  \n",
       "1672   0.063694     0.269946     0.443243      1  "
      ]
     },
     "execution_count": 2,
     "metadata": {},
     "output_type": "execute_result"
    }
   ],
   "source": [
    "file_path = '../dataset/2021Yan-SP-HEA'\n",
    "data_file = 'preprocessed.csv'\n",
    "df = pd.read_csv(f'{file_path}/{data_file}')\n",
    "# to reproduce the results in Yan 2021. use the same procedue and hyperparameters \n",
    "# num_ftrs = ['k','vm','tm','vac','delta','delta_chi', 'delta_s_mix', 'delta_h_mix']\n",
    "num_ftrs = ['tm', 'delta','delta_chi', 'delta_s_mix', 'delta_h_mix']\n",
    "# num_ftrs = ['vm','tm','vac','delta','delta_chi', 'delta_s_mix', 'delta_h_mix']\n",
    "target_ftrs = ['Class']\n",
    "X = df[num_ftrs]\n",
    "y = df[target_ftrs]\n",
    "df.sample(5)"
   ]
  },
  {
   "cell_type": "code",
   "execution_count": 3,
   "id": "vertical-steam",
   "metadata": {},
   "outputs": [],
   "source": [
    "def ML_pipeline_GridSearchCV_kfold(X, y, seed, n_folds, \n",
    "                                 clf, param_grid):\n",
    "    ## reg: the regressor\n",
    "    ## param_grid: hyperparameters to be tuned\n",
    "    X_other, X_test, y_other, y_test = train_test_split(X, y, \n",
    "                   test_size=0.20, random_state=seed)\n",
    "    kf = KFold(n_splits=n_folds) # no need to shuffle again\n",
    "    pipe = Pipeline(steps=[('clf', clf)])\n",
    "    grid = GridSearchCV(pipe, param_grid=param_grid,n_jobs=-1,\n",
    "#                         cv=kf, scoring=make_scorer(precision_score))\n",
    "                        cv=kf, scoring=make_scorer(accuracy_score))\n",
    "    grid.fit(X_other, y_other)\n",
    "    return grid, grid.score(X_test, y_test)"
   ]
  },
  {
   "cell_type": "markdown",
   "id": "premier-melbourne",
   "metadata": {},
   "source": [
    "## RandomForest classifier"
   ]
  },
  {
   "cell_type": "code",
   "execution_count": 4,
   "id": "listed-chorus",
   "metadata": {},
   "outputs": [],
   "source": [
    "from sklearn.ensemble import RandomForestClassifier"
   ]
  },
  {
   "cell_type": "code",
   "execution_count": 5,
   "id": "fancy-ministry",
   "metadata": {},
   "outputs": [
    {
     "data": {
      "text/plain": [
       "[4, 6, 8, 10, 13, 15, 17, 20]"
      ]
     },
     "execution_count": 5,
     "metadata": {},
     "output_type": "execute_result"
    }
   ],
   "source": [
    "max_depths = [int(x) for x in np.linspace(4, 20, num=8)]\n",
    "min_samples_splits = range(2, 12, 2)\n",
    "# n_estimators = [20, 40, 60, 80, 100, 120]\n",
    "param_grid = { \"clf__max_depth\" : max_depths, \n",
    "               \"clf__min_samples_split\" : min_samples_splits }\n",
    "#                \"clf__n_estimators\" : n_estimators}\n",
    "max_depths"
   ]
  },
  {
   "cell_type": "code",
   "execution_count": 6,
   "id": "french-kruger",
   "metadata": {},
   "outputs": [],
   "source": [
    "best_scores = []\n",
    "best_params = []\n",
    "for i in range(10):\n",
    "    clf = RandomForestClassifier(random_state=42*i, n_estimators=100)\n",
    "    grid, test_score = ML_pipeline_GridSearchCV_kfold(X, y.values.ravel(), \n",
    "          seed=827*i, n_folds=10, clf=clf, param_grid=param_grid)\n",
    "    best_scores.append(test_score)\n",
    "    best_params.append(grid.best_params_)"
   ]
  },
  {
   "cell_type": "code",
   "execution_count": 7,
   "id": "occupational-helen",
   "metadata": {},
   "outputs": [
    {
     "name": "stdout",
     "output_type": "stream",
     "text": [
      "Mean of the best score is 0.875.\n",
      "std of the best score is 0.013.\n"
     ]
    },
    {
     "data": {
      "text/plain": [
       "[{'clf__max_depth': 10, 'clf__min_samples_split': 10},\n",
       " {'clf__max_depth': 17, 'clf__min_samples_split': 2},\n",
       " {'clf__max_depth': 13, 'clf__min_samples_split': 10},\n",
       " {'clf__max_depth': 20, 'clf__min_samples_split': 4},\n",
       " {'clf__max_depth': 20, 'clf__min_samples_split': 2},\n",
       " {'clf__max_depth': 17, 'clf__min_samples_split': 6},\n",
       " {'clf__max_depth': 13, 'clf__min_samples_split': 8},\n",
       " {'clf__max_depth': 13, 'clf__min_samples_split': 6},\n",
       " {'clf__max_depth': 20, 'clf__min_samples_split': 2},\n",
       " {'clf__max_depth': 15, 'clf__min_samples_split': 8}]"
      ]
     },
     "execution_count": 7,
     "metadata": {},
     "output_type": "execute_result"
    }
   ],
   "source": [
    "print(\"Mean of the best score is %.3f.\" % np.mean(best_scores))\n",
    "print(\"std of the best score is %.3f.\" % np.std(best_scores))\n",
    "best_params"
   ]
  },
  {
   "cell_type": "code",
   "execution_count": 8,
   "id": "latin-white",
   "metadata": {},
   "outputs": [
    {
     "data": {
      "text/plain": [
       "[0.8453038674033149,\n",
       " 0.8701657458563536,\n",
       " 0.8729281767955801,\n",
       " 0.8756906077348067,\n",
       " 0.8839779005524862,\n",
       " 0.8812154696132597,\n",
       " 0.8646408839779005,\n",
       " 0.8977900552486188,\n",
       " 0.8812154696132597,\n",
       " 0.8729281767955801]"
      ]
     },
     "execution_count": 8,
     "metadata": {},
     "output_type": "execute_result"
    }
   ],
   "source": [
    "best_scores"
   ]
  }
 ],
 "metadata": {
  "kernelspec": {
   "display_name": "Python 3",
   "language": "python",
   "name": "python3"
  },
  "language_info": {
   "codemirror_mode": {
    "name": "ipython",
    "version": 3
   },
   "file_extension": ".py",
   "mimetype": "text/x-python",
   "name": "python",
   "nbconvert_exporter": "python",
   "pygments_lexer": "ipython3",
   "version": "3.8.10"
  }
 },
 "nbformat": 4,
 "nbformat_minor": 5
}
